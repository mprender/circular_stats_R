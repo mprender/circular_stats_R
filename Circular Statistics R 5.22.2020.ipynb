{
 "cells": [
  {
   "cell_type": "markdown",
   "metadata": {},
   "source": [
    "# Watson and Williams Test and other Circular Statistics in R \n",
    "\n",
    "### Directions: \n",
    "First we have to install the circular package in the environment. This will give a warning in a red box but that is ok. \n",
    "\n",
    "To run Code press the Run button at the top to press through.\n",
    "\n",
    "![title](run.png \"ShowMyImage\")\n",
    "\n",
    "Code is split into cells so that parts of it can be run sequentially and output can be given for each of those sections as it is run."
   ]
  },
  {
   "cell_type": "code",
   "execution_count": 1,
   "metadata": {},
   "outputs": [
    {
     "name": "stderr",
     "output_type": "stream",
     "text": [
      "Installing package into ‘/srv/rlibs’\n",
      "(as ‘lib’ is unspecified)\n",
      "\n",
      "Installing package into ‘/srv/rlibs’\n",
      "(as ‘lib’ is unspecified)\n",
      "\n"
     ]
    }
   ],
   "source": [
    "#install circular\n",
    "install.packages(\"circular\") #may get some warngings - this is ok\n",
    "install.packages(\"reshape2\")"
   ]
  },
  {
   "cell_type": "markdown",
   "metadata": {},
   "source": [
    "### Step 2: Import Libraries\n",
    "Next we need to import relevant libraries. These libraries are from installed packages, including the circular package installed above, and a plotting package ggplot2 that was able to be installed prior to opening the notebook."
   ]
  },
  {
   "cell_type": "code",
   "execution_count": 2,
   "metadata": {},
   "outputs": [
    {
     "name": "stderr",
     "output_type": "stream",
     "text": [
      "\n",
      "Attaching package: ‘circular’\n",
      "\n",
      "\n",
      "The following objects are masked from ‘package:stats’:\n",
      "\n",
      "    sd, var\n",
      "\n",
      "\n"
     ]
    }
   ],
   "source": [
    "#import necessary libraries\n",
    "library(circular)\n",
    "library(ggplot2)\n",
    "library(reshape2)"
   ]
  },
  {
   "cell_type": "markdown",
   "metadata": {},
   "source": [
    "### Step 3: Import Our Data\n",
    "Here, data is imported from a csv. This CSV must be present in the \"Home\" page in files. To upload a new CSV, go back to this original \"Home\" page and select \"upload\"\n",
    "\n",
    "If you upload a different file, remember **you will need to change the file name in the quotation marks below to match the file name you uploaded**"
   ]
  },
  {
   "cell_type": "code",
   "execution_count": 3,
   "metadata": {},
   "outputs": [],
   "source": [
    "#import data from csv (csv needs to be uploaded on \"home\" page)\n",
    "dataset = read.csv(\"alignment_analysis3.csv\")\n"
   ]
  },
  {
   "cell_type": "markdown",
   "metadata": {},
   "source": [
    "### Step 4: Assess and format uploaded data\n",
    "The next series of cells analyze the data uploaded from the csv and format it so it can be analyzed through the circular statistics codes. First, I check the dimensions of the data and pull the headers of the columns from the program. The headers are used in the next box of code so **if your headers are different you will need to change the next portion of code and all references to those variables.**"
   ]
  },
  {
   "cell_type": "code",
   "execution_count": 4,
   "metadata": {},
   "outputs": [
    {
     "data": {
      "text/html": [
       "<style>\n",
       ".list-inline {list-style: none; margin:0; padding: 0}\n",
       ".list-inline>li {display: inline-block}\n",
       ".list-inline>li:not(:last-child)::after {content: \"\\00b7\"; padding: 0 .5ex}\n",
       "</style>\n",
       "<ol class=list-inline><li>180</li><li>5</li></ol>\n"
      ],
      "text/latex": [
       "\\begin{enumerate*}\n",
       "\\item 180\n",
       "\\item 5\n",
       "\\end{enumerate*}\n"
      ],
      "text/markdown": [
       "1. 180\n",
       "2. 5\n",
       "\n",
       "\n"
      ],
      "text/plain": [
       "[1] 180   5"
      ]
     },
     "metadata": {},
     "output_type": "display_data"
    },
    {
     "data": {
      "text/html": [
       "<style>\n",
       ".list-inline {list-style: none; margin:0; padding: 0}\n",
       ".list-inline>li {display: inline-block}\n",
       ".list-inline>li:not(:last-child)::after {content: \"\\00b7\"; padding: 0 .5ex}\n",
       "</style>\n",
       "<ol class=list-inline><li>'Angle'</li><li>'X9_nw'</li><li>'X0_mw'</li><li>'X20_mw'</li><li>'test'</li></ol>\n"
      ],
      "text/latex": [
       "\\begin{enumerate*}\n",
       "\\item 'Angle'\n",
       "\\item 'X9\\_nw'\n",
       "\\item 'X0\\_mw'\n",
       "\\item 'X20\\_mw'\n",
       "\\item 'test'\n",
       "\\end{enumerate*}\n"
      ],
      "text/markdown": [
       "1. 'Angle'\n",
       "2. 'X9_nw'\n",
       "3. 'X0_mw'\n",
       "4. 'X20_mw'\n",
       "5. 'test'\n",
       "\n",
       "\n"
      ],
      "text/plain": [
       "[1] \"Angle\"  \"X9_nw\"  \"X0_mw\"  \"X20_mw\" \"test\"  "
      ]
     },
     "metadata": {},
     "output_type": "display_data"
    }
   ],
   "source": [
    "#Check dimensions of imported data and column names\n",
    "dim(dataset)\n",
    "names(dataset)"
   ]
  },
  {
   "cell_type": "code",
   "execution_count": 5,
   "metadata": {},
   "outputs": [],
   "source": [
    "## Rename Columnes because they came out weird and don't want to figure out that formatting right now\n",
    "names(dataset)[names(dataset) == \"Angle\"] <- \"Angle\"\n",
    "names(dataset)[names(dataset) == \"X9_nw\"] <- \"nine\"\n",
    "names(dataset)[names(dataset) == \"X0_mw\"] <- \"zero\"\n",
    "names(dataset)[names(dataset) == \"X20_mw\"] <- \"twenty\"\n",
    "names(dataset)[names(dataset) == \"test\"] <- \"test\""
   ]
  },
  {
   "cell_type": "code",
   "execution_count": 6,
   "metadata": {},
   "outputs": [
    {
     "data": {
      "image/png": "[encoded data removed]",
      "text/plain": [
       "plot without title"
      ]
     },
     "metadata": {
      "image/png": {
       "height": 420,
       "width": 420
      },
      "text/plain": {
       "height": 420,
       "width": 420
      }
     },
     "output_type": "display_data"
    }
   ],
   "source": [
    "#visualize imported data with plot to make sure it looks ok\n",
    "#visualize imported data with plot to make sure it looks ok\n",
    "dat <- data.frame(x=c(dataset$Angle),zero_mW=c(dataset$zero),nine_mW=c(dataset$nine),twenty_mW=c(dataset$twenty))\n",
    "dat.m <- melt(dat, id.vars=\"x\")\n",
    "\n",
    "ggplot(dat.m,aes(x,value,colour=variable))+\n",
    "    geom_point()+\n",
    "    scale_color_manual(values=c(\"hotpink2\",\"seagreen3\",\"darkorange2\"),\n",
    "                      name=\"Intensity\",\n",
    "                      labels=c(\"0 mW\",\"9 mW\",\"20 mW\"))+\n",
    "    theme_minimal()+\n",
    "    labs(x=\"Orientation\",y=\"Relative Frequency\")\n",
    "    \n",
    "\n",
    "#a+geom_jitter(color=\"blue\")+theme_minimal()\n",
    "#b+geom_jitter(color=\"red\")\n",
    "#ggplot(data= datamp, aes(x = Angle, y = C,B)) +\n",
    "#geom_point()"
   ]
  },
  {
   "cell_type": "markdown",
   "metadata": {},
   "source": [
    "### Step 5: Adjust data so it is circular \n",
    "\n",
    "This first cell takes the data from the spreadsheet and turns it into matrix format and also groups each column with the angle columns. The variables are all totally arbitrary. byrow=false because I want the matrix organized by columns.\n",
    "\n",
    "I then test if the program detects the data as \"circular.\" The FALSE outputs show it is not. Even though the data IS circular, we have to label it as that so the program knows to treat it as such. \n",
    "\n",
    "The second cell #make data circular uses the circular function to do just that. Again, does nothing to change the data, but just lets the program know we want this data treated in a circular manner. The \"TRUE\" outputs show that the program now correctly reads the data as circular. \n",
    "\n",
    "units are in degrees because I want visualization/data nalysis in degrees. Templates, such as \"geographies\" are available so that when plotting it will reference data in regards to directions like north, south east west. I didn't use any of these templates for this."
   ]
  },
  {
   "cell_type": "code",
   "execution_count": 7,
   "metadata": {},
   "outputs": [
    {
     "data": {
      "text/html": [
       "FALSE"
      ],
      "text/latex": [
       "FALSE"
      ],
      "text/markdown": [
       "FALSE"
      ],
      "text/plain": [
       "[1] FALSE"
      ]
     },
     "metadata": {},
     "output_type": "display_data"
    },
    {
     "data": {
      "text/html": [
       "FALSE"
      ],
      "text/latex": [
       "FALSE"
      ],
      "text/markdown": [
       "FALSE"
      ],
      "text/plain": [
       "[1] FALSE"
      ]
     },
     "metadata": {},
     "output_type": "display_data"
    },
    {
     "data": {
      "text/html": [
       "FALSE"
      ],
      "text/latex": [
       "FALSE"
      ],
      "text/markdown": [
       "FALSE"
      ],
      "text/plain": [
       "[1] FALSE"
      ]
     },
     "metadata": {},
     "output_type": "display_data"
    },
    {
     "data": {
      "text/html": [
       "FALSE"
      ],
      "text/latex": [
       "FALSE"
      ],
      "text/markdown": [
       "FALSE"
      ],
      "text/plain": [
       "[1] FALSE"
      ]
     },
     "metadata": {},
     "output_type": "display_data"
    }
   ],
   "source": [
    "#Put data into format for making circular and statistical tests\n",
    "DT <- matrix(c(dataset$Angle,dataset$nine),ncol=2,byrow=FALSE)\n",
    "AB <- matrix(c(dataset$Angle,dataset$zero),ncol=2,byrow=FALSE)\n",
    "CD <- matrix(c(dataset$Angle,dataset$twenty),ncol=2,byrow=FALSE)\n",
    "EF <- matrix(c(dataset$Angle,dataset$test),ncol=2,byrow=FALSE)\n",
    "\n",
    "## test if program detects data as circular?\n",
    "is.circular(DT)\n",
    "is.circular(AB)\n",
    "is.circular(CD)\n",
    "is.circular(EF)"
   ]
  },
  {
   "cell_type": "code",
   "execution_count": 8,
   "metadata": {},
   "outputs": [
    {
     "data": {
      "text/html": [
       "TRUE"
      ],
      "text/latex": [
       "TRUE"
      ],
      "text/markdown": [
       "TRUE"
      ],
      "text/plain": [
       "[1] TRUE"
      ]
     },
     "metadata": {},
     "output_type": "display_data"
    },
    {
     "data": {
      "text/html": [
       "TRUE"
      ],
      "text/latex": [
       "TRUE"
      ],
      "text/markdown": [
       "TRUE"
      ],
      "text/plain": [
       "[1] TRUE"
      ]
     },
     "metadata": {},
     "output_type": "display_data"
    },
    {
     "data": {
      "text/html": [
       "TRUE"
      ],
      "text/latex": [
       "TRUE"
      ],
      "text/markdown": [
       "TRUE"
      ],
      "text/plain": [
       "[1] TRUE"
      ]
     },
     "metadata": {},
     "output_type": "display_data"
    },
    {
     "data": {
      "text/html": [
       "TRUE"
      ],
      "text/latex": [
       "TRUE"
      ],
      "text/markdown": [
       "TRUE"
      ],
      "text/plain": [
       "[1] TRUE"
      ]
     },
     "metadata": {},
     "output_type": "display_data"
    }
   ],
   "source": [
    "#make data circular\n",
    "Nine_mw <- circular(DT, units=\"degrees\", template=\"none\")\n",
    "Zero_mw <- circular(AB, units=\"degrees\", template=\"none\")\n",
    "Twenty_mw  <- circular(CD, units=\"degrees\", template=\"none\") \n",
    "TEST <-circular(EF, units=\"degrees\", template=\"none\") \n",
    "\n",
    "## Test is program detects data as circular?\n",
    "\n",
    "is.circular(Nine_mw)\n",
    "is.circular(Zero_mw)\n",
    "is.circular(Twenty_mw)\n",
    "is.circular(TEST)"
   ]
  },
  {
   "cell_type": "markdown",
   "metadata": {},
   "source": [
    "### Step 6: Run some statistical tests\n",
    "\n",
    "The data is finally in a format to run through some of the circular statistics functions. \n",
    "\n",
    "First I ran some uniformity tests. These tests can be run on a single set of data. there are a couple of options for testing uniformity, including the Rayleigh, Kuiper, and Rao tests. These tests suggest a uniform distribution. \n",
    "\n",
    "** NOTE. P value of 0 is not actually 0, but is so small the program rounds it to zero. \n",
    "\n",
    "[Rayleigh Test](https://www.rdocumentation.org/packages/circular/versions/0.4-93/topics/rayleigh.test)\n",
    "\n",
    "why rayleigh test is fine for unimodal distributions (and- when to use others): [stats comparisons ](https://www.ncbi.nlm.nih.gov/pmc/articles/PMC6060829/)\n",
    "\n",
    "Great explanation of Rayleigh test and output in this paper: [Rayleigh explanation](https://www.ncbi.nlm.nih.gov/pmc/articles/PMC5310581/) Basically output suggests that if there is a peak - there is only one significant peak, or unimodal distribution. There are also Kuiper's test and Rao's spacing test. I have looked less into these, but they test for similar measures. You can find more about these tests in _[Package Circular](https://cran.r-project.org/web/packages/circular/circular.pdf)_  \n"
   ]
  },
  {
   "cell_type": "code",
   "execution_count": 9,
   "metadata": {},
   "outputs": [
    {
     "data": {
      "text/plain": [
       "\n",
       "       Rayleigh Test of Uniformity \n",
       "       General Unimodal Alternative \n",
       "\n",
       "Test Statistic:  0.8183 \n",
       "P-value:  0 \n"
      ]
     },
     "metadata": {},
     "output_type": "display_data"
    },
    {
     "data": {
      "text/plain": [
       "\n",
       "       Rayleigh Test of Uniformity \n",
       "       General Unimodal Alternative \n",
       "\n",
       "Test Statistic:  0.8183 \n",
       "P-value:  0 \n"
      ]
     },
     "metadata": {},
     "output_type": "display_data"
    },
    {
     "data": {
      "text/plain": [
       "\n",
       "       Rayleigh Test of Uniformity \n",
       "       General Unimodal Alternative \n",
       "\n",
       "Test Statistic:  0.8183 \n",
       "P-value:  0 \n"
      ]
     },
     "metadata": {},
     "output_type": "display_data"
    },
    {
     "data": {
      "text/plain": [
       "\n",
       "       Rayleigh Test of Uniformity \n",
       "       General Unimodal Alternative \n",
       "\n",
       "Test Statistic:  0.8183 \n",
       "P-value:  0 \n"
      ]
     },
     "metadata": {},
     "output_type": "display_data"
    },
    {
     "data": {
      "text/plain": [
       "\n",
       "       Kuiper's Test of Uniformity \n",
       " \n",
       "Test Statistic:  9.6238 \n",
       "P-value < 0.01 \n",
       " "
      ]
     },
     "metadata": {},
     "output_type": "display_data"
    },
    {
     "data": {
      "text/plain": [
       "\n",
       "       Rao's Spacing Test of Uniformity \n",
       " \n",
       "Test Statistic = 180 \n",
       "P-value < 0.001 \n",
       " "
      ]
     },
     "metadata": {},
     "output_type": "display_data"
    },
    {
     "data": {
      "text/plain": [
       "\n",
       "       Watson's Test for Circular Uniformity \n",
       " \n",
       "Test Statistic: 15.0325 \n",
       "P-value < 0.01 \n",
       " "
      ]
     },
     "metadata": {},
     "output_type": "display_data"
    }
   ],
   "source": [
    "# rayleigh test\n",
    "rayleigh.test(Twenty_mw)\n",
    "rayleigh.test(Nine_mw)\n",
    "rayleigh.test(Zero_mw)\n",
    "rayleigh.test(TEST)\n",
    "\n",
    "#kuiper test\n",
    "kuiper.test(Twenty_mw)\n",
    "\n",
    "#rao spacing test\n",
    "rao.spacing.test(Twenty_mw)\n",
    "\n",
    "#watson uniformity test\n",
    "watson.test(Twenty_mw)"
   ]
  },
  {
   "cell_type": "markdown",
   "metadata": {},
   "source": [
    "### Step 6.2 Watson Two Test\n",
    "\n",
    "Ok, next I wanted to compare some of my data. I first tried the watson two test because it was the simplest and only analyzes two groups at once. see this link to read about available functions _[Package Circular](https://cran.r-project.org/web/packages/circular/circular.pdf)_ Page 125 describes this functon\n",
    "\n",
    "If P<0.05, then you can reject hypothesis that the distributions are the same. The difference, if P<0.05, could be in mean, angular variance, etc. \n",
    "\n",
    "The Test statistic is similar to an F-critical value (If the calculated F-value is greater than F-statistic or F-critical value, the null hypothesis is rejected; otherwise, the null hypothesis is not rejected.). I have not found the proper table to look the critical test statistic to compare, but as the program calculates the P-value, I don't believe this is too important.\n"
   ]
  },
  {
   "cell_type": "code",
   "execution_count": 10,
   "metadata": {},
   "outputs": [
    {
     "data": {
      "text/plain": [
       "\n",
       "      Watson's Two-Sample Test of Homogeneity \n",
       "\n",
       "Test Statistic: 1.874 \n",
       "P-value < 0.001 \n",
       " "
      ]
     },
     "metadata": {},
     "output_type": "display_data"
    },
    {
     "data": {
      "text/plain": [
       "\n",
       "      Watson's Two-Sample Test of Homogeneity \n",
       "\n",
       "Test Statistic: 1.3378 \n",
       "P-value < 0.001 \n",
       " "
      ]
     },
     "metadata": {},
     "output_type": "display_data"
    },
    {
     "data": {
      "text/plain": [
       "\n",
       "      Watson's Two-Sample Test of Homogeneity \n",
       "\n",
       "Test Statistic: 1.0375 \n",
       "P-value < 0.001 \n",
       " "
      ]
     },
     "metadata": {},
     "output_type": "display_data"
    },
    {
     "data": {
      "text/plain": [
       "\n",
       "      Watson's Two-Sample Test of Homogeneity \n",
       "\n",
       "Test Statistic: 4.657 \n",
       "P-value < 0.001 \n",
       " "
      ]
     },
     "metadata": {},
     "output_type": "display_data"
    },
    {
     "data": {
      "text/plain": [
       "\n",
       "      Watson's Two-Sample Test of Homogeneity \n",
       "\n",
       "Test Statistic: 4e-04 \n",
       "P-value > 0.10 \n",
       " "
      ]
     },
     "metadata": {},
     "output_type": "display_data"
    }
   ],
   "source": [
    "#watson two test \n",
    "#Are two groups' orientations significantly different from each other? \n",
    "watson.two.test(Twenty_mw,Zero_mw)\n",
    "watson.two.test(Nine_mw,Zero_mw)\n",
    "watson.two.test(Twenty_mw,Nine_mw)\n",
    "\n",
    "#test data to make sure this is working the way I think it is \n",
    "# if p value is < 0.05 should be statistically different/significant, >0.05 not statistically significant/different\n",
    "watson.two.test(Zero_mw,TEST) #test is a fake set that should definitely be statistically significant \n",
    "watson.two.test(Zero_mw,Zero_mw) #testing should not be statistically significant because they are the same "
   ]
  },
  {
   "cell_type": "markdown",
   "metadata": {},
   "source": [
    "### Step 6.3 Watson Williams Test\n",
    "\n",
    "Next I ran the Watson Williams Test. While the Two test results suggested that each of the groups are statistically significant, except for the last, which should not be statistically significant since a group is being compared against itself, the output below suggest the groups are not statistically significant.\n",
    "\n",
    "The test below however appears to be comparing the \"means\" of the groups, or at what angle the most points are located. Even though the magnitudes are different, since most of the points are centered at the same angle, that is why this test says there is not a difference.\n",
    "\n",
    "But again, unclear. I may also be running this test incorrectly, or interpreting the results incorrectly. I've been looking up F critical values from this link: _[F_crit lookup](https://www.danielsoper.com/statcalc/calculator.aspx?id=4)_\n",
    "- based on what I've read, you are supposed to reject null hypothesis if the critical F value from the table lookup is less than the F value \n",
    "- The values for this critical F that I've been using are based on the p value ( I assume .99 when it outputs one) and the df1 and df2 values output by the test results. \n",
    "- The F value = 0 and p-value = 1 outputs seem a little fishy to me. I need to think through what might be causing them and run through some testing with sample datasets that I know the output of. I will have time to do this tomorrow (Sunday) and will keep you updated. \n",
    "- The means seem to be the means of all the values. "
   ]
  },
  {
   "cell_type": "code",
   "execution_count": 11,
   "metadata": {},
   "outputs": [
    {
     "data": {
      "text/plain": [
       "\n",
       "\tWatson-Williams test for homogeneity of means\n",
       "\n",
       "data:  1 and 2\n",
       "F = 0, df1 = 1, df2 = 718, p-value = 1\n",
       "sample estimates:\n",
       "Circular Data: \n",
       "Type = angles \n",
       "Units = degrees \n",
       "Template = none \n",
       "Modulo = asis \n",
       "Zero = 0 \n",
       "Rotation = counter \n",
       "     mean of 1      mean of 2 \n",
       "0.003394513635 0.003394396607 \n"
      ]
     },
     "metadata": {},
     "output_type": "display_data"
    },
    {
     "data": {
      "text/plain": [
       "\n",
       "\tWatson-Williams test for homogeneity of means\n",
       "\n",
       "data:  1 and 2 and 3\n",
       "F = 0, df1 = 2, df2 = 1077, p-value = 1\n",
       "sample estimates:\n",
       "Circular Data: \n",
       "Type = angles \n",
       "Units = degrees \n",
       "Template = none \n",
       "Modulo = asis \n",
       "Zero = 0 \n",
       "Rotation = counter \n",
       "     mean of 1      mean of 2      mean of 3 \n",
       "0.003394513635 0.003394513640 0.003394513615 \n"
      ]
     },
     "metadata": {},
     "output_type": "display_data"
    },
    {
     "data": {
      "text/plain": [
       "\n",
       "\tWatson-Williams test for homogeneity of means\n",
       "\n",
       "data:  1 and 2 and 3\n",
       "F = 3.4968786e-13, df1 = 2, df2 = 1077, p-value = 1\n",
       "sample estimates:\n",
       "Circular Data: \n",
       "Type = angles \n",
       "Units = degrees \n",
       "Template = none \n",
       "Modulo = asis \n",
       "Zero = 0 \n",
       "Rotation = counter \n",
       "     mean of 1      mean of 2      mean of 3 \n",
       "0.003394513635 0.003394513635 0.003394513635 \n"
      ]
     },
     "metadata": {},
     "output_type": "display_data"
    }
   ],
   "source": [
    "options(digits=10) # tried to keep the program from \"rounding\" the F or p-values but this seems to have an impact only on the mean outputs \n",
    "\n",
    "# These groups should be statistically significant \n",
    "data1 <- list(Zero_mw, TEST)\n",
    "watson.williams.test(data1)\n",
    "\n",
    "#actual data that I am comparing \n",
    "data2 <- list(Zero_mw, Nine_mw,Twenty_mw)\n",
    "watson.williams.test(data2)\n",
    "\n",
    "#comparing datasets to itself for control test \n",
    "data3 <- list(Zero_mw, Zero_mw,Zero_mw)\n",
    "watson.williams.test(data3)"
   ]
  },
  {
   "cell_type": "markdown",
   "metadata": {},
   "source": [
    "### Step 6.4 Watson Williams Test\n",
    "Next I ran the Watson Wheeler Test. This test is the same as above, but in addition to checking for differences in the means of the group, it also checks for differences in the variance. Here, you see expected outcomes.\n",
    "\n",
    "You may get a \"warning\" message from this about ties. From running the test multiple times as suggested, I seem to get similar outputs- at least as far as whether P << 0.05 or > 0.05. The P-values do seem to change slightly though. you can read more about ties here, although implementing the ties method did not seem to remove the error message. [ties method error](https://stats.stackexchange.com/questions/34008/how-does-ties-method-argument-of-rs-rank-function-work)\n",
    "\n",
    "this article discusses ties and suggests that this test can still be used even with ties through randomization + multiple runs of test [ties discussion](https://pdfs.semanticscholar.org/ca57/d5b8af7a44b502fe1000c23bb1340920c312.pdf)\n",
    "\n",
    "more on ties from stack exchange forum here as well (different test, but similar concept): [ties forum](https://stats.stackexchange.com/questions/206739/non-parametric-test-that-handles-ties-in-data)"
   ]
  },
  {
   "cell_type": "code",
   "execution_count": 12,
   "metadata": {},
   "outputs": [
    {
     "name": "stderr",
     "output_type": "stream",
     "text": [
      "Warning message in watson.wheeler.test.default(x, group):\n",
      "“There are 192 ties in the data.\n",
      "  Ties will be broken appart randomly and may influence the result.\n",
      "  Re-run the test several times to check the influence of ties.”\n"
     ]
    },
    {
     "data": {
      "text/plain": [
       "\n",
       "\tWatson-Wheeler test for homogeneity of angles\n",
       "\n",
       "data:  1 and 2\n",
       "W = 143.25197, df = 2, p-value < 2.2204e-16\n"
      ]
     },
     "metadata": {},
     "output_type": "display_data"
    },
    {
     "name": "stderr",
     "output_type": "stream",
     "text": [
      "Warning message in watson.wheeler.test.default(x, group):\n",
      "“There are 382 ties in the data.\n",
      "  Ties will be broken appart randomly and may influence the result.\n",
      "  Re-run the test several times to check the influence of ties.”\n"
     ]
    },
    {
     "data": {
      "text/plain": [
       "\n",
       "\tWatson-Wheeler test for homogeneity of angles\n",
       "\n",
       "data:  1 and 2 and 3\n",
       "W = 51.756187, df = 4, p-value = 1.551262e-10\n"
      ]
     },
     "metadata": {},
     "output_type": "display_data"
    },
    {
     "name": "stderr",
     "output_type": "stream",
     "text": [
      "Warning message in watson.wheeler.test.default(x, group):\n",
      "“There are 726 ties in the data.\n",
      "  Ties will be broken appart randomly and may influence the result.\n",
      "  Re-run the test several times to check the influence of ties.”\n"
     ]
    },
    {
     "data": {
      "text/plain": [
       "\n",
       "\tWatson-Wheeler test for homogeneity of angles\n",
       "\n",
       "data:  1 and 2 and 3\n",
       "W = 0.00022730797, df = 4, p-value = 1\n"
      ]
     },
     "metadata": {},
     "output_type": "display_data"
    }
   ],
   "source": [
    "watson.wheeler.test(data1) # These groups should be statistically significant \n",
    "watson.wheeler.test(data2) #actual data that I am comparing \n",
    "watson.wheeler.test(data3) #comparing datasets to itself for control test "
   ]
  },
  {
   "cell_type": "markdown",
   "metadata": {},
   "source": [
    "### Step 6.5 Circular Standard Deviation\n",
    "[sonia mauck lab paper](https://onlinelibrary.wiley.com/doi/pdf/10.1002/jor.24697?casa_token=VNMcElXNkK8AAAAA:JYsnUzaxhAoqVeR8uvPinMbL1Yfaffpn9ZbPwXpoT3tcsUDcqtgcA5q-NIe11Nm26g1R24EqGNJ1n6k)\n",
    "\n",
    "Sonia uses circular statistics matlab package: [read more here](https://www.mathworks.com/matlabcentral/fileexchange/10676-circular-statistics-toolbox-directional-statistics) and analyzes the circular standard deviation. You can do this in R as below.\n",
    "\n",
    "While Sonia seems to have normalized her data, previous mauck lab papers [like this one](https://www.nature.com/articles/s41598-018-29060-y#Fig3) report circular standard deviation as numbers greater than 1. "
   ]
  },
  {
   "cell_type": "code",
   "execution_count": 13,
   "metadata": {},
   "outputs": [
    {
     "data": {
      "text/html": [
       "<style>\n",
       ".list-inline {list-style: none; margin:0; padding: 0}\n",
       ".list-inline>li {display: inline-block}\n",
       ".list-inline>li:not(:last-child)::after {content: \"\\00b7\"; padding: 0 .5ex}\n",
       "</style>\n",
       "<ol class=list-inline><li>3.02319149254919</li><li>0.00551206470512031</li></ol>\n"
      ],
      "text/latex": [
       "\\begin{enumerate*}\n",
       "\\item 3.02319149254919\n",
       "\\item 0.00551206470512031\n",
       "\\end{enumerate*}\n"
      ],
      "text/markdown": [
       "1. 3.02319149254919\n",
       "2. 0.00551206470512031\n",
       "\n",
       "\n"
      ],
      "text/plain": [
       "[1] 3.023191492549 0.005512064705"
      ]
     },
     "metadata": {},
     "output_type": "display_data"
    },
    {
     "data": {
      "text/html": [
       "<style>\n",
       ".list-inline {list-style: none; margin:0; padding: 0}\n",
       ".list-inline>li {display: inline-block}\n",
       ".list-inline>li:not(:last-child)::after {content: \"\\00b7\"; padding: 0 .5ex}\n",
       "</style>\n",
       "<ol class=list-inline><li>3.02319149254919</li><li>0.00289202362835538</li></ol>\n"
      ],
      "text/latex": [
       "\\begin{enumerate*}\n",
       "\\item 3.02319149254919\n",
       "\\item 0.00289202362835538\n",
       "\\end{enumerate*}\n"
      ],
      "text/markdown": [
       "1. 3.02319149254919\n",
       "2. 0.00289202362835538\n",
       "\n",
       "\n"
      ],
      "text/plain": [
       "[1] 3.023191492549 0.002892023628"
      ]
     },
     "metadata": {},
     "output_type": "display_data"
    },
    {
     "data": {
      "text/html": [
       "<style>\n",
       ".list-inline {list-style: none; margin:0; padding: 0}\n",
       ".list-inline>li {display: inline-block}\n",
       ".list-inline>li:not(:last-child)::after {content: \"\\00b7\"; padding: 0 .5ex}\n",
       "</style>\n",
       "<ol class=list-inline><li>3.02319149254919</li><li>0.000760509702783315</li></ol>\n"
      ],
      "text/latex": [
       "\\begin{enumerate*}\n",
       "\\item 3.02319149254919\n",
       "\\item 0.000760509702783315\n",
       "\\end{enumerate*}\n"
      ],
      "text/markdown": [
       "1. 3.02319149254919\n",
       "2. 0.000760509702783315\n",
       "\n",
       "\n"
      ],
      "text/plain": [
       "[1] 3.0231914925492 0.0007605097028"
      ]
     },
     "metadata": {},
     "output_type": "display_data"
    },
    {
     "data": {
      "text/html": [
       "<style>\n",
       ".list-inline {list-style: none; margin:0; padding: 0}\n",
       ".list-inline>li {display: inline-block}\n",
       ".list-inline>li:not(:last-child)::after {content: \"\\00b7\"; padding: 0 .5ex}\n",
       "</style>\n",
       "<ol class=list-inline><li>3.02319149254919</li><li>0.0634977178668364</li></ol>\n"
      ],
      "text/latex": [
       "\\begin{enumerate*}\n",
       "\\item 3.02319149254919\n",
       "\\item 0.0634977178668364\n",
       "\\end{enumerate*}\n"
      ],
      "text/markdown": [
       "1. 3.02319149254919\n",
       "2. 0.0634977178668364\n",
       "\n",
       "\n"
      ],
      "text/plain": [
       "[1] 3.02319149255 0.06349771787"
      ]
     },
     "metadata": {},
     "output_type": "display_data"
    }
   ],
   "source": [
    "sd(Twenty_mw)\n",
    "sd(Nine_mw)\n",
    "sd(Zero_mw)\n",
    "sd(TEST)"
   ]
  },
  {
   "cell_type": "markdown",
   "metadata": {},
   "source": [
    "### Extra: Plotting example\n",
    "I was looking at this online post to help work through some of what these functions mean. I thought the plot visualization, while not really \"pretty\" as far as plots go, might be useful and has been useful to help me understand the data and the format it is in. A sample plot is below"
   ]
  },
  {
   "cell_type": "code",
   "execution_count": 15,
   "metadata": {},
   "outputs": [
    {
     "data": {
      "image/png": "[encoded data removed]",
      "text/plain": [
       "plot without title"
      ]
     },
     "metadata": {
      "image/png": {
       "height": 420,
       "width": 420
      },
      "text/plain": {
       "height": 420,
       "width": 420
      }
     },
     "output_type": "display_data"
    }
   ],
   "source": [
    "#sample plot from circular tool functions\n",
    "test = circular.colors(9, m = 1, M = 2 * pi,offset=25)\n",
    "plot.circular(Twenty_mw, stack= TRUE, pch = 10, sep = 0.02, shrink = 1.2,col=test[1])\n",
    "Twenty_mw.mean <- mean(Twenty_mw)\n",
    "arrows.circular(Twenty_mw.mean, col=test[8])"
   ]
  },
  {
   "cell_type": "markdown",
   "metadata": {},
   "source": [
    "### More Watson Williams Test Troublshooting\n",
    "To make sure I am running the actual code correctly, I tested the example data offered on the watson.williams.test R page. this seems to come out ok and finally gives F and p-values different from 0 and 1 like the data above. "
   ]
  },
  {
   "cell_type": "code",
   "execution_count": 17,
   "metadata": {},
   "outputs": [
    {
     "data": {
      "text/plain": [
       "\n",
       "\tWatson-Williams test for homogeneity of means\n",
       "\n",
       "data:  exp and control\n",
       "F = 8.7328625, df1 = 1, df2 = 18, p-value = 0.008471694\n",
       "sample estimates:\n",
       "Circular Data: \n",
       "Type = angles \n",
       "Units = degrees \n",
       "Template = geographics \n",
       "Modulo = asis \n",
       "Zero = 1.570796327 \n",
       "Rotation = clock \n",
       "mean of control     mean of exp \n",
       "    1.988968942    -9.000615262 \n"
      ]
     },
     "metadata": {},
     "output_type": "display_data"
    }
   ],
   "source": [
    "\n",
    "data <- list(\n",
    "  exp = circular(rep(c(-20, -10, 0), c(1,7,2)), \n",
    "        units=\"degrees\", template=\"geographics\"),\n",
    "  control = circular(rep(c(-10, 0, 10, 20), c(3,3,3,1)), \n",
    "            units=\"degrees\", template=\"geographics\")\n",
    ")\n",
    "\n",
    "watson.williams.test(data)"
   ]
  },
  {
   "cell_type": "code",
   "execution_count": null,
   "metadata": {},
   "outputs": [],
   "source": []
  }
 ],
 "metadata": {
  "kernelspec": {
   "display_name": "R",
   "language": "R",
   "name": "ir"
  },
  "language_info": {
   "codemirror_mode": "r",
   "file_extension": ".r",
   "mimetype": "text/x-r-source",
   "name": "R",
   "pygments_lexer": "r",
   "version": "3.6.3"
  }
 },
 "nbformat": 4,
 "nbformat_minor": 2
}
