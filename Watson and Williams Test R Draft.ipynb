{
 "cells": [
  {
   "cell_type": "code",
   "execution_count": 293,
   "metadata": {},
   "outputs": [],
   "source": [
    "#import libraries\n",
    "library(stats)\n",
    "library(circular)\n",
    "library(ggplot2)\n",
    "library(dplyr)"
   ]
  },
  {
   "cell_type": "code",
   "execution_count": 294,
   "metadata": {},
   "outputs": [],
   "source": [
    "#import data from csv (csv needs to be uploaded on \"home\" page)\n",
    "datamp = read.csv(\"alignment_analysis3.csv\")\n"
   ]
  },
  {
   "cell_type": "code",
   "execution_count": 295,
   "metadata": {},
   "outputs": [
    {
     "data": {
      "text/html": [
       "<ol class=list-inline>\n",
       "\t<li>180</li>\n",
       "\t<li>5</li>\n",
       "</ol>\n"
      ],
      "text/latex": [
       "\\begin{enumerate*}\n",
       "\\item 180\n",
       "\\item 5\n",
       "\\end{enumerate*}\n"
      ],
      "text/markdown": [
       "1. 180\n",
       "2. 5\n",
       "\n",
       "\n"
      ],
      "text/plain": [
       "[1] 180   5"
      ]
     },
     "metadata": {},
     "output_type": "display_data"
    },
    {
     "data": {
      "text/html": [
       "<ol class=list-inline>\n",
       "\t<li>'ï..Angle'</li>\n",
       "\t<li>'X9_nw'</li>\n",
       "\t<li>'X0_mw'</li>\n",
       "\t<li>'X20_mw'</li>\n",
       "\t<li>'test'</li>\n",
       "</ol>\n"
      ],
      "text/latex": [
       "\\begin{enumerate*}\n",
       "\\item 'ï..Angle'\n",
       "\\item 'X9\\_nw'\n",
       "\\item 'X0\\_mw'\n",
       "\\item 'X20\\_mw'\n",
       "\\item 'test'\n",
       "\\end{enumerate*}\n"
      ],
      "text/markdown": [
       "1. 'ï..Angle'\n",
       "2. 'X9_nw'\n",
       "3. 'X0_mw'\n",
       "4. 'X20_mw'\n",
       "5. 'test'\n",
       "\n",
       "\n"
      ],
      "text/plain": [
       "[1] \"ï..Angle\" \"X9_nw\"    \"X0_mw\"    \"X20_mw\"   \"test\"    "
      ]
     },
     "metadata": {},
     "output_type": "display_data"
    }
   ],
   "source": [
    "#Check dimensions of imported data and column names\n",
    "dim(datamp)\n",
    "names(datamp)"
   ]
  },
  {
   "cell_type": "code",
   "execution_count": 296,
   "metadata": {},
   "outputs": [],
   "source": [
    "## Rename Columnes because they came out weird and don't want to figure out that formatting right now\n",
    "names(datamp)[names(datamp) == \"ï..Angle\"] <- \"Angle\"\n",
    "names(datamp)[names(datamp) == \"X9_nw\"] <- \"nine\"\n",
    "names(datamp)[names(datamp) == \"X0_mw\"] <- \"zero\"\n",
    "names(datamp)[names(datamp) == \"X20_mw\"] <- \"twenty\"\n",
    "names(datamp)[names(datamp) == \"test\"] <- \"test\""
   ]
  },
  {
   "cell_type": "code",
   "execution_count": 304,
   "metadata": {},
   "outputs": [
    {
     "data": {},
     "metadata": {},
     "output_type": "display_data"
    },
    {
     "data": {
      "image/png": "[encoded data removed]",
      "text/plain": [
       "plot without title"
      ]
     },
     "metadata": {},
     "output_type": "display_data"
    }
   ],
   "source": [
    "#visualize imported data with plot to make sure it looks ok\n",
    "ggplot(data= datamp, aes(x = Angle, y = nine)) +\n",
    "  geom_point()"
   ]
  },
  {
   "cell_type": "code",
   "execution_count": 299,
   "metadata": {},
   "outputs": [],
   "source": [
    "#Put data into format for making circular and statistical tests\n",
    "DT <- matrix(c(datamp$Angle,datamp$nine),ncol=2,byrow=FALSE)\n",
    "AB <- matrix(c(datamp$Angle,datamp$zero),ncol=2,byrow=FALSE)\n",
    "CD <- matrix(c(datamp$Angle,datamp$twenty),ncol=2,byrow=FALSE)\n",
    "EF <- matrix(c(datamp$Angle,datamp$test),ncol=2,byrow=FALSE)"
   ]
  },
  {
   "cell_type": "code",
   "execution_count": 300,
   "metadata": {},
   "outputs": [],
   "source": [
    "#make data circular (I think this is the von mises formulation you were talking about )\n",
    "Nine_mw <- circular(DT, units=\"degrees\", template=\"geographics\") #assign north subset to \"north\" variable\n",
    "Zero_mw <- circular(AB, units=\"degrees\", template=\"geographics\") #south \n",
    "Twenty_mw  <- circular(CD, units=\"degrees\", template=\"geographics\") #south \n",
    "TEST <-circular(EF, units=\"degrees\", template=\"geographics\") #south "
   ]
  },
  {
   "cell_type": "code",
   "execution_count": 306,
   "metadata": {},
   "outputs": [
    {
     "data": {
      "text/plain": [
       "\n",
       "      Watson's Two-Sample Test of Homogeneity \n",
       "\n",
       "Test Statistic: 1.8963 \n",
       "P-value < 0.001 \n",
       " "
      ]
     },
     "metadata": {},
     "output_type": "display_data"
    },
    {
     "data": {
      "text/plain": [
       "\n",
       "      Watson's Two-Sample Test of Homogeneity \n",
       "\n",
       "Test Statistic: 1.3541 \n",
       "P-value < 0.001 \n",
       " "
      ]
     },
     "metadata": {},
     "output_type": "display_data"
    },
    {
     "data": {
      "text/plain": [
       "\n",
       "      Watson's Two-Sample Test of Homogeneity \n",
       "\n",
       "Test Statistic: 1.0563 \n",
       "P-value < 0.001 \n",
       " "
      ]
     },
     "metadata": {},
     "output_type": "display_data"
    },
    {
     "data": {
      "text/plain": [
       "\n",
       "      Watson's Two-Sample Test of Homogeneity \n",
       "\n",
       "Test Statistic: 4.5952 \n",
       "P-value < 0.001 \n",
       " "
      ]
     },
     "metadata": {},
     "output_type": "display_data"
    },
    {
     "data": {
      "text/plain": [
       "\n",
       "      Watson's Two-Sample Test of Homogeneity \n",
       "\n",
       "Test Statistic: 4e-04 \n",
       "P-value > 0.10 \n",
       " "
      ]
     },
     "metadata": {},
     "output_type": "display_data"
    }
   ],
   "source": [
    "#watson two test because I can't get the other one to work yet\n",
    "#actual data\n",
    "watson.two.test(Twenty_mw,Zero_mw)\n",
    "watson.two.test(Nine_mw,Zero_mw)\n",
    "watson.two.test(Twenty_mw,Nine_mw)\n",
    "\n",
    "#test data to make sure this is working the way I think it is \n",
    "# if p value is < 0.05 should be statistically different/significant, >0.05 not statistically significant/different\n",
    "watson.two.test(Zero_mw,TEST) #test is a fake set that should definitely be statistically significant \n",
    "watson.two.test(Zero_mw,Zero_mw) #testing should not be statistically significant because they are the same "
   ]
  },
  {
   "cell_type": "code",
   "execution_count": 309,
   "metadata": {},
   "outputs": [
    {
     "ename": "ERROR",
     "evalue": "Error in watson.williams.test(Angle, north): object 'Angle' not found\n",
     "output_type": "error",
     "traceback": [
      "Error in watson.williams.test(Angle, north): object 'Angle' not found\nTraceback:\n",
      "1. watson.williams.test(Angle, north)"
     ]
    }
   ],
   "source": [
    "#this is still not working will figure out later\n",
    "# got it to work with the example so there is something I am formatting wrong with my inputs \n",
    "watson.williams.test(Angle, north) #tried a lot of combos of my current data, some output stuff but didn't analyze it correctly (ie, thought angles were groups)\n"
   ]
  },
  {
   "cell_type": "code",
   "execution_count": 310,
   "metadata": {},
   "outputs": [
    {
     "data": {
      "text/plain": [
       "\n",
       "\tWatson-Williams test for homogeneity of means\n",
       "\n",
       "data:  exp and control\n",
       "F = 8.7329, df1 = 1, df2 = 18, p-value = 0.008472\n",
       "sample estimates:\n",
       "Circular Data: \n",
       "Type = angles \n",
       "Units = degrees \n",
       "Template = geographics \n",
       "Modulo = asis \n",
       "Zero = 1.570796 \n",
       "Rotation = clock \n",
       "mean of control     mean of exp \n",
       "       1.988969       -9.000615 \n"
      ]
     },
     "metadata": {},
     "output_type": "display_data"
    }
   ],
   "source": [
    "#watson william test sample that works in case you are interested\n",
    "\n",
    "#because this works I have all the dependencies I need and there isn't anything wrong with the code- just something wrong with my inputs \n",
    "\n",
    "# Ant orientation from Duelli and Wehner (1973)\n",
    "# Example used in Batschelet (1981)\n",
    "data <- list(\n",
    "  exp = circular(rep(c(-20, -10, 0), c(1,7,2)), \n",
    "        units=\"degrees\", template=\"geographics\"),\n",
    "  control = circular(rep(c(-10, 0, 10, 20), c(3,3,3,1)), \n",
    "            units=\"degrees\", template=\"geographics\")\n",
    ")\n",
    "\n",
    "watson.williams.test(data)\n"
   ]
  },
  {
   "cell_type": "code",
   "execution_count": null,
   "metadata": {},
   "outputs": [],
   "source": []
  }
 ],
 "metadata": {
  "kernelspec": {
   "display_name": "R [conda env:Anaconda3]",
   "language": "R",
   "name": "conda-env-Anaconda3-r"
  },
  "language_info": {
   "codemirror_mode": "r",
   "file_extension": ".r",
   "mimetype": "text/x-r-source",
   "name": "R",
   "pygments_lexer": "r",
   "version": "3.5.1"
  }
 },
 "nbformat": 4,
 "nbformat_minor": 2
}
