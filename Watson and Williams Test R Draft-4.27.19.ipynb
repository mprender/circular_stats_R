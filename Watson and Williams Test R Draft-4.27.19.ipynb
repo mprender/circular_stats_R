{
 "cells": [
  {
   "cell_type": "markdown",
   "metadata": {},
   "source": []
  },
  {
   "cell_type": "code",
   "execution_count": 1,
   "metadata": {},
   "outputs": [
    {
     "name": "stderr",
     "output_type": "stream",
     "text": [
      "\n",
      "Attaching package: 'circular'\n",
      "\n",
      "The following objects are masked from 'package:stats':\n",
      "\n",
      "    sd, var\n",
      "\n",
      "\n",
      "Attaching package: 'dplyr'\n",
      "\n",
      "The following objects are masked from 'package:stats':\n",
      "\n",
      "    filter, lag\n",
      "\n",
      "The following objects are masked from 'package:base':\n",
      "\n",
      "    intersect, setdiff, setequal, union\n",
      "\n"
     ]
    }
   ],
   "source": [
    "#import libraries\n",
    "library(stats)\n",
    "library(circular)\n",
    "library(ggplot2)\n",
    "library(dplyr)\n",
    "library(mvtnorm)"
   ]
  },
  {
   "cell_type": "code",
   "execution_count": 2,
   "metadata": {},
   "outputs": [],
   "source": [
    "#import data from csv (csv needs to be uploaded on \"home\" page)\n",
    "datamp = read.csv(\"alignment_analysis3.csv\")\n"
   ]
  },
  {
   "cell_type": "code",
   "execution_count": 3,
   "metadata": {},
   "outputs": [
    {
     "data": {
      "text/html": [
       "<ol class=list-inline>\n",
       "\t<li>180</li>\n",
       "\t<li>5</li>\n",
       "</ol>\n"
      ],
      "text/latex": [
       "\\begin{enumerate*}\n",
       "\\item 180\n",
       "\\item 5\n",
       "\\end{enumerate*}\n"
      ],
      "text/markdown": [
       "1. 180\n",
       "2. 5\n",
       "\n",
       "\n"
      ],
      "text/plain": [
       "[1] 180   5"
      ]
     },
     "metadata": {},
     "output_type": "display_data"
    },
    {
     "data": {
      "text/html": [
       "<ol class=list-inline>\n",
       "\t<li>'ï..Angle'</li>\n",
       "\t<li>'X9_nw'</li>\n",
       "\t<li>'X0_mw'</li>\n",
       "\t<li>'X20_mw'</li>\n",
       "\t<li>'test'</li>\n",
       "</ol>\n"
      ],
      "text/latex": [
       "\\begin{enumerate*}\n",
       "\\item 'ï..Angle'\n",
       "\\item 'X9\\_nw'\n",
       "\\item 'X0\\_mw'\n",
       "\\item 'X20\\_mw'\n",
       "\\item 'test'\n",
       "\\end{enumerate*}\n"
      ],
      "text/markdown": [
       "1. 'ï..Angle'\n",
       "2. 'X9_nw'\n",
       "3. 'X0_mw'\n",
       "4. 'X20_mw'\n",
       "5. 'test'\n",
       "\n",
       "\n"
      ],
      "text/plain": [
       "[1] \"ï..Angle\" \"X9_nw\"    \"X0_mw\"    \"X20_mw\"   \"test\"    "
      ]
     },
     "metadata": {},
     "output_type": "display_data"
    }
   ],
   "source": [
    "#Check dimensions of imported data and column names\n",
    "dim(datamp)\n",
    "names(datamp)"
   ]
  },
  {
   "cell_type": "code",
   "execution_count": 4,
   "metadata": {},
   "outputs": [],
   "source": [
    "## Rename Columnes because they came out weird and don't want to figure out that formatting right now\n",
    "names(datamp)[names(datamp) == \"ï..Angle\"] <- \"Angle\"\n",
    "names(datamp)[names(datamp) == \"X9_nw\"] <- \"nine\"\n",
    "names(datamp)[names(datamp) == \"X0_mw\"] <- \"zero\"\n",
    "names(datamp)[names(datamp) == \"X20_mw\"] <- \"twenty\"\n",
    "names(datamp)[names(datamp) == \"test\"] <- \"test\""
   ]
  },
  {
   "cell_type": "code",
   "execution_count": 5,
   "metadata": {},
   "outputs": [
    {
     "data": {},
     "metadata": {},
     "output_type": "display_data"
    },
    {
     "data": {
      "image/png": "[encoded data removed]",
      "text/plain": [
       "plot without title"
      ]
     },
     "metadata": {},
     "output_type": "display_data"
    }
   ],
   "source": [
    "#visualize imported data with plot to make sure it looks ok\n",
    "ggplot(data= datamp, aes(x = Angle, y = nine)) +\n",
    "  geom_point()"
   ]
  },
  {
   "cell_type": "code",
   "execution_count": 6,
   "metadata": {},
   "outputs": [],
   "source": [
    "#Put data into format for making circular and statistical tests\n",
    "DT <- matrix(c(datamp$Angle,datamp$nine),ncol=2,byrow=FALSE)\n",
    "AB <- matrix(c(datamp$Angle,datamp$zero),ncol=2,byrow=FALSE)\n",
    "CD <- matrix(c(datamp$Angle,datamp$twenty),ncol=2,byrow=FALSE)\n",
    "EF <- matrix(c(datamp$Angle,datamp$test),ncol=2,byrow=FALSE)"
   ]
  },
  {
   "cell_type": "code",
   "execution_count": 7,
   "metadata": {},
   "outputs": [],
   "source": [
    "#make data circular\n",
    "Nine_mw <- circular(DT, units=\"degrees\", template=\"none\")\n",
    "Zero_mw <- circular(AB, units=\"degrees\", template=\"none\")\n",
    "Twenty_mw  <- circular(CD, units=\"degrees\", template=\"none\") \n",
    "TEST <-circular(EF, units=\"degrees\", template=\"none\") "
   ]
  },
  {
   "cell_type": "code",
   "execution_count": 8,
   "metadata": {},
   "outputs": [
    {
     "data": {
      "text/plain": [
       "\n",
       "      Watson's Two-Sample Test of Homogeneity \n",
       "\n",
       "Test Statistic: 1.874 \n",
       "P-value < 0.001 \n",
       " "
      ]
     },
     "metadata": {},
     "output_type": "display_data"
    },
    {
     "data": {
      "text/plain": [
       "\n",
       "      Watson's Two-Sample Test of Homogeneity \n",
       "\n",
       "Test Statistic: 1.3378 \n",
       "P-value < 0.001 \n",
       " "
      ]
     },
     "metadata": {},
     "output_type": "display_data"
    },
    {
     "data": {
      "text/plain": [
       "\n",
       "      Watson's Two-Sample Test of Homogeneity \n",
       "\n",
       "Test Statistic: 1.0375 \n",
       "P-value < 0.001 \n",
       " "
      ]
     },
     "metadata": {},
     "output_type": "display_data"
    },
    {
     "data": {
      "text/plain": [
       "\n",
       "      Watson's Two-Sample Test of Homogeneity \n",
       "\n",
       "Test Statistic: 4.657 \n",
       "P-value < 0.001 \n",
       " "
      ]
     },
     "metadata": {},
     "output_type": "display_data"
    },
    {
     "data": {
      "text/plain": [
       "\n",
       "      Watson's Two-Sample Test of Homogeneity \n",
       "\n",
       "Test Statistic: 4e-04 \n",
       "P-value > 0.10 \n",
       " "
      ]
     },
     "metadata": {},
     "output_type": "display_data"
    }
   ],
   "source": [
    "#watson two test \n",
    "#Are two groups' orientations significantly different from each other? \n",
    "watson.two.test(Twenty_mw,Zero_mw)\n",
    "watson.two.test(Nine_mw,Zero_mw)\n",
    "watson.two.test(Twenty_mw,Nine_mw)\n",
    "\n",
    "#test data to make sure this is working the way I think it is \n",
    "# if p value is < 0.05 should be statistically different/significant, >0.05 not statistically significant/different\n",
    "watson.two.test(Zero_mw,TEST) #test is a fake set that should definitely be statistically significant \n",
    "watson.two.test(Zero_mw,Zero_mw) #testing should not be statistically significant because they are the same "
   ]
  },
  {
   "cell_type": "code",
   "execution_count": 9,
   "metadata": {},
   "outputs": [
    {
     "data": {
      "text/plain": [
       "\n",
       "\tWatson-Williams test for homogeneity of means\n",
       "\n",
       "data:  1 and 2 and 3\n",
       "F = 0, df1 = 2, df2 = 1077, p-value = 1\n",
       "sample estimates:\n",
       "Circular Data: \n",
       "Type = angles \n",
       "Units = degrees \n",
       "Template = none \n",
       "Modulo = asis \n",
       "Zero = 0 \n",
       "Rotation = counter \n",
       "  mean of 1   mean of 2   mean of 3 \n",
       "0.003394514 0.003394514 0.003394514 \n"
      ]
     },
     "metadata": {},
     "output_type": "display_data"
    }
   ],
   "source": [
    "#watson william test first between two\n",
    "# Reject nullif critical f value is smaller than alpha level\n",
    "# also reject null if critical f value \n",
    "##(table lookup: https://www.danielsoper.com/statcalc/calculator.aspx?id=4) \n",
    "##is smaller than F value\n",
    "data1 <- list(Twenty_mw, Zero_mw, Nine_mw)\n",
    "watson.williams.test(data1)"
   ]
  },
  {
   "cell_type": "code",
   "execution_count": 22,
   "metadata": {},
   "outputs": [
    {
     "data": {
      "image/png": "[encoded data removed]",
      "text/plain": [
       "plot without title"
      ]
     },
     "metadata": {},
     "output_type": "display_data"
    }
   ],
   "source": [
    "#sample plot from circular tool functions\n",
    "plot.circular(Twenty_mw, stack= TRUE, pch = 10, sep = 0.02, shrink = 1.2)\n",
    "Twenty_mw.mean <- mean(Twenty_mw)\n",
    "arrows.circular(Twenty_mw.mean, col=\"red\")"
   ]
  }
 ],
 "metadata": {
  "kernelspec": {
   "display_name": "R [conda env:Anaconda3]",
   "language": "R",
   "name": "conda-env-Anaconda3-r"
  },
  "language_info": {
   "codemirror_mode": "r",
   "file_extension": ".r",
   "mimetype": "text/x-r-source",
   "name": "R",
   "pygments_lexer": "r",
   "version": "3.5.1"
  }
 },
 "nbformat": 4,
 "nbformat_minor": 2
}
